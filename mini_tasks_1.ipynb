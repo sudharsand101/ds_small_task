{
 "cells": [
  {
   "cell_type": "raw",
   "id": "ded239d6-a6f2-4a45-bf9a-da26ec860b92",
   "metadata": {},
   "source": [
    "#) ***************************topic: datascience small task emphasis on mysql*******************************\n",
    "#) *********topics covered: 1. pandas, 2. mongodb 3. mysql, 4.data visualization, 5. dashboard*************"
   ]
  },
  {
   "cell_type": "code",
   "execution_count": 1,
   "id": "ed0d1bd7-2015-43d7-a732-60ee884d201e",
   "metadata": {},
   "outputs": [],
   "source": [
    "import pandas as pd"
   ]
  },
  {
   "cell_type": "code",
   "execution_count": 2,
   "id": "e28ac91d-32b4-4c60-a247-dfc55e7718d8",
   "metadata": {},
   "outputs": [
    {
     "data": {
      "text/html": [
       "<div>\n",
       "<style scoped>\n",
       "    .dataframe tbody tr th:only-of-type {\n",
       "        vertical-align: middle;\n",
       "    }\n",
       "\n",
       "    .dataframe tbody tr th {\n",
       "        vertical-align: top;\n",
       "    }\n",
       "\n",
       "    .dataframe thead th {\n",
       "        text-align: right;\n",
       "    }\n",
       "</style>\n",
       "<table border=\"1\" class=\"dataframe\">\n",
       "  <thead>\n",
       "    <tr style=\"text-align: right;\">\n",
       "      <th></th>\n",
       "      <th>student_name</th>\n",
       "      <th>course</th>\n",
       "      <th>session</th>\n",
       "      <th>year</th>\n",
       "      <th>marks</th>\n",
       "      <th>student_address</th>\n",
       "      <th>gender</th>\n",
       "    </tr>\n",
       "  </thead>\n",
       "  <tbody>\n",
       "    <tr>\n",
       "      <th>0</th>\n",
       "      <td>Wyatt</td>\n",
       "      <td>AI</td>\n",
       "      <td>FN</td>\n",
       "      <td>2024</td>\n",
       "      <td>94.9</td>\n",
       "      <td>salem</td>\n",
       "      <td>M</td>\n",
       "    </tr>\n",
       "    <tr>\n",
       "      <th>1</th>\n",
       "      <td>Estelle</td>\n",
       "      <td>ML</td>\n",
       "      <td>AN</td>\n",
       "      <td>2023</td>\n",
       "      <td>76.5</td>\n",
       "      <td>chennai</td>\n",
       "      <td>F</td>\n",
       "    </tr>\n",
       "    <tr>\n",
       "      <th>2</th>\n",
       "      <td>Heath</td>\n",
       "      <td>DS</td>\n",
       "      <td>AN</td>\n",
       "      <td>2022</td>\n",
       "      <td>83.2</td>\n",
       "      <td>erode</td>\n",
       "      <td>M</td>\n",
       "    </tr>\n",
       "    <tr>\n",
       "      <th>3</th>\n",
       "      <td>Imogene</td>\n",
       "      <td>DE</td>\n",
       "      <td>AN</td>\n",
       "      <td>2024</td>\n",
       "      <td>72.4</td>\n",
       "      <td>coimbatore</td>\n",
       "      <td>F</td>\n",
       "    </tr>\n",
       "    <tr>\n",
       "      <th>4</th>\n",
       "      <td>Archer</td>\n",
       "      <td>DE</td>\n",
       "      <td>FN</td>\n",
       "      <td>2023</td>\n",
       "      <td>90.1</td>\n",
       "      <td>coimbatore</td>\n",
       "      <td>M</td>\n",
       "    </tr>\n",
       "    <tr>\n",
       "      <th>5</th>\n",
       "      <td>Penelope</td>\n",
       "      <td>ML</td>\n",
       "      <td>FN</td>\n",
       "      <td>2022</td>\n",
       "      <td>71.2</td>\n",
       "      <td>salem</td>\n",
       "      <td>F</td>\n",
       "    </tr>\n",
       "    <tr>\n",
       "      <th>6</th>\n",
       "      <td>Henry</td>\n",
       "      <td>ML</td>\n",
       "      <td>AN</td>\n",
       "      <td>2024</td>\n",
       "      <td>87.6</td>\n",
       "      <td>erode</td>\n",
       "      <td>M</td>\n",
       "    </tr>\n",
       "    <tr>\n",
       "      <th>7</th>\n",
       "      <td>Violet</td>\n",
       "      <td>DS</td>\n",
       "      <td>FN</td>\n",
       "      <td>2023</td>\n",
       "      <td>67.9</td>\n",
       "      <td>ooty</td>\n",
       "      <td>F</td>\n",
       "    </tr>\n",
       "    <tr>\n",
       "      <th>8</th>\n",
       "      <td>Theodore</td>\n",
       "      <td>AI</td>\n",
       "      <td>AN</td>\n",
       "      <td>2022</td>\n",
       "      <td>95.8</td>\n",
       "      <td>ooty</td>\n",
       "      <td>M</td>\n",
       "    </tr>\n",
       "    <tr>\n",
       "      <th>9</th>\n",
       "      <td>Verity</td>\n",
       "      <td>ML</td>\n",
       "      <td>FN</td>\n",
       "      <td>2023</td>\n",
       "      <td>81.2</td>\n",
       "      <td>chennai</td>\n",
       "      <td>F</td>\n",
       "    </tr>\n",
       "  </tbody>\n",
       "</table>\n",
       "</div>"
      ],
      "text/plain": [
       "  student_name course session  year  marks student_address gender\n",
       "0        Wyatt     AI      FN  2024   94.9           salem      M\n",
       "1      Estelle     ML      AN  2023   76.5         chennai      F\n",
       "2        Heath     DS      AN  2022   83.2           erode      M\n",
       "3      Imogene     DE      AN  2024   72.4      coimbatore      F\n",
       "4       Archer     DE      FN  2023   90.1      coimbatore      M\n",
       "5     Penelope     ML      FN  2022   71.2           salem      F\n",
       "6        Henry     ML      AN  2024   87.6           erode      M\n",
       "7       Violet     DS      FN  2023   67.9            ooty      F\n",
       "8     Theodore     AI      AN  2022   95.8            ooty      M\n",
       "9       Verity     ML      FN  2023   81.2         chennai      F"
      ]
     },
     "execution_count": 2,
     "metadata": {},
     "output_type": "execute_result"
    }
   ],
   "source": [
    "#) creating student_record_data and conerting into dataframe\n",
    "df_record = pd.DataFrame()\n",
    "df_record['student_name'] = [\n",
    "    'Wyatt','Estelle','Heath','Imogene','Archer','Penelope','Henry','Violet','Theodore','Verity'\n",
    "]\n",
    "df_record['course']= [\n",
    "    'AI','ML','DS','DE','DE','ML','ML','DS','AI','ML'\n",
    "]\n",
    "df_record['session'] = [\n",
    "    'FN','AN','AN','AN','FN','FN','AN','FN','AN','FN'\n",
    "]\n",
    "df_record['year'] = [\n",
    "    2024,2023,2022,2024,2023,2022,2024,2023,2022,2023\n",
    "]\n",
    "df_record['marks'] = [\n",
    "    94.9,76.5,83.2,72.4,90.1,71.2,87.6,67.9,95.8,81.2\n",
    "]\n",
    "df_record['student_address'] = [\n",
    "    'salem','chennai','erode','coimbatore','coimbatore','salem','erode','ooty','ooty','chennai'\n",
    "]\n",
    "df_record['gender'] = [\n",
    "    'M','F','M','F','M','F','M','F','M','F'\n",
    "]\n",
    "df_record"
   ]
  },
  {
   "cell_type": "code",
   "execution_count": 10,
   "id": "933800d5-6d47-4745-bf46-abc8dba5fd01",
   "metadata": {},
   "outputs": [
    {
     "name": "stdout",
     "output_type": "stream",
     "text": [
      "<class 'pandas.core.frame.DataFrame'>\n",
      "RangeIndex: 10 entries, 0 to 9\n",
      "Data columns (total 7 columns):\n",
      " #   Column           Non-Null Count  Dtype  \n",
      "---  ------           --------------  -----  \n",
      " 0   student_name     10 non-null     object \n",
      " 1   course           10 non-null     object \n",
      " 2   session          10 non-null     object \n",
      " 3   year             10 non-null     int64  \n",
      " 4   marks            10 non-null     float64\n",
      " 5   student_address  10 non-null     object \n",
      " 6   gender           10 non-null     object \n",
      "dtypes: float64(1), int64(1), object(5)\n",
      "memory usage: 692.0+ bytes\n"
     ]
    }
   ],
   "source": [
    "df_record.info()"
   ]
  },
  {
   "cell_type": "code",
   "execution_count": 12,
   "id": "b132ec1a-2cfc-404a-80d1-08df6ad39334",
   "metadata": {},
   "outputs": [
    {
     "data": {
      "text/html": [
       "<div>\n",
       "<style scoped>\n",
       "    .dataframe tbody tr th:only-of-type {\n",
       "        vertical-align: middle;\n",
       "    }\n",
       "\n",
       "    .dataframe tbody tr th {\n",
       "        vertical-align: top;\n",
       "    }\n",
       "\n",
       "    .dataframe thead th {\n",
       "        text-align: right;\n",
       "    }\n",
       "</style>\n",
       "<table border=\"1\" class=\"dataframe\">\n",
       "  <thead>\n",
       "    <tr style=\"text-align: right;\">\n",
       "      <th></th>\n",
       "      <th>year</th>\n",
       "      <th>marks</th>\n",
       "    </tr>\n",
       "  </thead>\n",
       "  <tbody>\n",
       "    <tr>\n",
       "      <th>count</th>\n",
       "      <td>10.000000</td>\n",
       "      <td>10.000000</td>\n",
       "    </tr>\n",
       "    <tr>\n",
       "      <th>mean</th>\n",
       "      <td>2023.000000</td>\n",
       "      <td>82.080000</td>\n",
       "    </tr>\n",
       "    <tr>\n",
       "      <th>std</th>\n",
       "      <td>0.816497</td>\n",
       "      <td>9.964916</td>\n",
       "    </tr>\n",
       "    <tr>\n",
       "      <th>min</th>\n",
       "      <td>2022.000000</td>\n",
       "      <td>67.900000</td>\n",
       "    </tr>\n",
       "    <tr>\n",
       "      <th>25%</th>\n",
       "      <td>2022.250000</td>\n",
       "      <td>73.425000</td>\n",
       "    </tr>\n",
       "    <tr>\n",
       "      <th>50%</th>\n",
       "      <td>2023.000000</td>\n",
       "      <td>82.200000</td>\n",
       "    </tr>\n",
       "    <tr>\n",
       "      <th>75%</th>\n",
       "      <td>2023.750000</td>\n",
       "      <td>89.475000</td>\n",
       "    </tr>\n",
       "    <tr>\n",
       "      <th>max</th>\n",
       "      <td>2024.000000</td>\n",
       "      <td>95.800000</td>\n",
       "    </tr>\n",
       "  </tbody>\n",
       "</table>\n",
       "</div>"
      ],
      "text/plain": [
       "              year      marks\n",
       "count    10.000000  10.000000\n",
       "mean   2023.000000  82.080000\n",
       "std       0.816497   9.964916\n",
       "min    2022.000000  67.900000\n",
       "25%    2022.250000  73.425000\n",
       "50%    2023.000000  82.200000\n",
       "75%    2023.750000  89.475000\n",
       "max    2024.000000  95.800000"
      ]
     },
     "execution_count": 12,
     "metadata": {},
     "output_type": "execute_result"
    }
   ],
   "source": [
    "df_record.describe()"
   ]
  },
  {
   "cell_type": "code",
   "execution_count": 11,
   "id": "72746eb8-9eb9-475e-9942-5ee7f3f7fbf2",
   "metadata": {},
   "outputs": [],
   "source": [
    "import pymongo"
   ]
  },
  {
   "cell_type": "code",
   "execution_count": 12,
   "id": "d78d286a-c627-46ea-a68f-46a9b4625e89",
   "metadata": {},
   "outputs": [],
   "source": [
    "#) creating connection between jupyter notebook to mongodb\n",
    "connection = pymongo.MongoClient('mongodb://127.0.0.1:27017/')"
   ]
  },
  {
   "cell_type": "code",
   "execution_count": 13,
   "id": "24eb3065-3eea-404e-9259-0d675bc1667e",
   "metadata": {},
   "outputs": [],
   "source": [
    "#) table creation\n",
    "db = connection['D101']\n",
    "collection = db['marks']"
   ]
  },
  {
   "cell_type": "code",
   "execution_count": 14,
   "id": "b82d2306-9495-432d-85fb-e0d7dde3e260",
   "metadata": {},
   "outputs": [],
   "source": [
    "#) inserting dataframe record data into mongodb\n",
    "my_data = []\n",
    "for index in df_record.index:\n",
    "    row = df_record.loc[index]\n",
    "    row = row.to_dict()\n",
    "    my_data.append(row)"
   ]
  },
  {
   "cell_type": "code",
   "execution_count": 16,
   "id": "377d0453-3641-49e0-b764-24710b215886",
   "metadata": {},
   "outputs": [
    {
     "data": {
      "text/plain": [
       "InsertManyResult([ObjectId('65dd9f1cdd6d8276a83892b9'), ObjectId('65dd9f1cdd6d8276a83892ba'), ObjectId('65dd9f1cdd6d8276a83892bb'), ObjectId('65dd9f1cdd6d8276a83892bc'), ObjectId('65dd9f1cdd6d8276a83892bd'), ObjectId('65dd9f1cdd6d8276a83892be'), ObjectId('65dd9f1cdd6d8276a83892bf'), ObjectId('65dd9f1cdd6d8276a83892c0'), ObjectId('65dd9f1cdd6d8276a83892c1'), ObjectId('65dd9f1cdd6d8276a83892c2')], acknowledged=True)"
      ]
     },
     "execution_count": 16,
     "metadata": {},
     "output_type": "execute_result"
    }
   ],
   "source": [
    "#)inserting many data\n",
    "collection.insert_many(my_data)"
   ]
  },
  {
   "cell_type": "code",
   "execution_count": 18,
   "id": "46b2a0ba-9ec8-428c-8dfc-a2fbeeefead9",
   "metadata": {},
   "outputs": [
    {
     "name": "stdout",
     "output_type": "stream",
     "text": [
      "{'_id': ObjectId('65dd9f1cdd6d8276a83892b9'), 'student_name': 'Wyatt', 'course': 'AI', 'session': 'FN', 'year': 2024, 'marks': 94.9, 'student_address': 'salem', 'gender': 'M'}\n",
      "{'_id': ObjectId('65dd9f1cdd6d8276a83892ba'), 'student_name': 'Estelle', 'course': 'ML', 'session': 'AN', 'year': 2023, 'marks': 76.5, 'student_address': 'chennai', 'gender': 'F'}\n",
      "{'_id': ObjectId('65dd9f1cdd6d8276a83892bb'), 'student_name': 'Heath', 'course': 'DS', 'session': 'AN', 'year': 2022, 'marks': 83.2, 'student_address': 'erode', 'gender': 'M'}\n",
      "{'_id': ObjectId('65dd9f1cdd6d8276a83892bc'), 'student_name': 'Imogene', 'course': 'DE', 'session': 'AN', 'year': 2024, 'marks': 72.4, 'student_address': 'coimbatore', 'gender': 'F'}\n",
      "{'_id': ObjectId('65dd9f1cdd6d8276a83892bd'), 'student_name': 'Archer', 'course': 'DE', 'session': 'FN', 'year': 2023, 'marks': 90.1, 'student_address': 'coimbatore', 'gender': 'M'}\n",
      "{'_id': ObjectId('65dd9f1cdd6d8276a83892be'), 'student_name': 'Penelope', 'course': 'ML', 'session': 'FN', 'year': 2022, 'marks': 71.2, 'student_address': 'salem', 'gender': 'F'}\n",
      "{'_id': ObjectId('65dd9f1cdd6d8276a83892bf'), 'student_name': 'Henry', 'course': 'ML', 'session': 'AN', 'year': 2024, 'marks': 87.6, 'student_address': 'erode', 'gender': 'M'}\n",
      "{'_id': ObjectId('65dd9f1cdd6d8276a83892c0'), 'student_name': 'Violet', 'course': 'DS', 'session': 'FN', 'year': 2023, 'marks': 67.9, 'student_address': 'ooty', 'gender': 'F'}\n",
      "{'_id': ObjectId('65dd9f1cdd6d8276a83892c1'), 'student_name': 'Theodore', 'course': 'AI', 'session': 'AN', 'year': 2022, 'marks': 95.8, 'student_address': 'ooty', 'gender': 'M'}\n",
      "{'_id': ObjectId('65dd9f1cdd6d8276a83892c2'), 'student_name': 'Verity', 'course': 'ML', 'session': 'FN', 'year': 2023, 'marks': 81.2, 'student_address': 'chennai', 'gender': 'F'}\n"
     ]
    }
   ],
   "source": [
    "#) to show the inserted data in mongodb\n",
    "for doc in collection.find():\n",
    "    print(doc)"
   ]
  },
  {
   "cell_type": "code",
   "execution_count": 17,
   "id": "3c5fb5e4-4b71-435b-ae73-51f1203a8715",
   "metadata": {},
   "outputs": [],
   "source": [
    "#) import mysql module\n",
    "import mysql.connector"
   ]
  },
  {
   "cell_type": "code",
   "execution_count": 89,
   "id": "c1e5f352-1571-4c55-b7f8-5b2767b23964",
   "metadata": {},
   "outputs": [],
   "source": [
    "#) creating the connection and database in sql from jupyter notebook\n",
    "connection = mysql.connector.connect(\n",
    "    host='localhost',\n",
    "    user='root',\n",
    "    password='Rudra@014',\n",
    "    auth_plugin = 'mysql_native_password',\n",
    "    database = 'd101'\n",
    ")\n",
    "cursor = connection.cursor()"
   ]
  },
  {
   "cell_type": "code",
   "execution_count": 90,
   "id": "d5458ef3-ce4d-404c-8847-899c9b0ca2ce",
   "metadata": {},
   "outputs": [],
   "source": [
    "#) ctreate table marks in sql\n",
    "query = \"\"\"create table marks(student_name varchar(100), course varchar(30), session varchar(100), year int,\n",
    "       mark float, student_address varchar(100), gender varchar(100))\"\"\"\n",
    "cursor.execute(query)"
   ]
  },
  {
   "cell_type": "code",
   "execution_count": 91,
   "id": "75c6a81f-fe58-47d1-ab5c-1317c6a80bd9",
   "metadata": {},
   "outputs": [
    {
     "name": "stdout",
     "output_type": "stream",
     "text": [
      "student_name varchar(100)\n",
      "course varchar(30)\n",
      "session varchar(100)\n",
      "year int\n",
      "mark float\n",
      "student_address varchar(100)\n",
      "gender varchar(100)\n"
     ]
    }
   ],
   "source": [
    "#) show the column name from marks table\n",
    "query = \"DESC marks\"\n",
    "cursor.execute(query)\n",
    "result = cursor.fetchall()\n",
    "for col in result:\n",
    "    print(col[0],col[1])"
   ]
  },
  {
   "cell_type": "code",
   "execution_count": 92,
   "id": "1e3525e9-ee2c-4e50-bde3-59fe21c616c8",
   "metadata": {},
   "outputs": [],
   "source": [
    "#) insert df_record into sql database\n",
    "query = \"insert into marks values(%s,%s,%s,%s,%s,%s,%s)\"\n",
    "data_points = []\n",
    "for index in df_record.index:\n",
    "    row = df_record.loc[index].values\n",
    "    row = tuple([str(d) for d in row])\n",
    "    data_points.append(row)\n",
    "cursor.executemany(query,data_points)\n",
    "connection.commit()"
   ]
  },
  {
   "cell_type": "code",
   "execution_count": 93,
   "id": "745fc878-14e9-41e5-ac21-893cf45984a4",
   "metadata": {},
   "outputs": [
    {
     "name": "stdout",
     "output_type": "stream",
     "text": [
      "('Wyatt', 'AI', 'FN', 2024, 94.9, 'salem', 'M')\n",
      "('Estelle', 'ML', 'AN', 2023, 76.5, 'chennai', 'F')\n",
      "('Heath', 'DS', 'AN', 2022, 83.2, 'erode', 'M')\n",
      "('Imogene', 'DE', 'AN', 2024, 72.4, 'coimbatore', 'F')\n",
      "('Archer', 'DE', 'FN', 2023, 90.1, 'coimbatore', 'M')\n",
      "('Penelope', 'ML', 'FN', 2022, 71.2, 'salem', 'F')\n",
      "('Henry', 'ML', 'AN', 2024, 87.6, 'erode', 'M')\n",
      "('Violet', 'DS', 'FN', 2023, 67.9, 'ooty', 'F')\n",
      "('Theodore', 'AI', 'AN', 2022, 95.8, 'ooty', 'M')\n",
      "('Verity', 'ML', 'FN', 2023, 81.2, 'chennai', 'F')\n"
     ]
    }
   ],
   "source": [
    "#) show the data from marks table\n",
    "query =\"select * from marks\"\n",
    "cursor.execute(query)\n",
    "for row in cursor.fetchall():\n",
    "    print(row)"
   ]
  },
  {
   "cell_type": "code",
   "execution_count": 94,
   "id": "b4caaba6-e25b-4f5b-8b62-2172cfe74caa",
   "metadata": {},
   "outputs": [
    {
     "name": "stdout",
     "output_type": "stream",
     "text": [
      "('Heath', 'DS', 'AN', 2022, 83.2, 'erode', 'M')\n",
      "('Violet', 'DS', 'FN', 2023, 67.9, 'ooty', 'F')\n"
     ]
    }
   ],
   "source": [
    "#)select the data of coloumn course 'DS'\n",
    "query = \"select * from marks where course='DS'\"\n",
    "cursor.execute(query)\n",
    "for row in cursor.fetchall():\n",
    "    print(row)"
   ]
  },
  {
   "cell_type": "code",
   "execution_count": 95,
   "id": "96fefd02-6cfd-4917-ac04-9e551f1b6eed",
   "metadata": {},
   "outputs": [
    {
     "name": "stdout",
     "output_type": "stream",
     "text": [
      "('Imogene', 'DE', 'AN', 2024, 72.4, 'coimbatore', 'F')\n",
      "('Archer', 'DE', 'FN', 2023, 90.1, 'coimbatore', 'M')\n"
     ]
    }
   ],
   "source": [
    "#)select the data of coloumn course 'DE'\n",
    "query = \"select * from marks where course='DE'\"\n",
    "cursor.execute(query)\n",
    "for row in cursor.fetchall():\n",
    "    print(row)"
   ]
  },
  {
   "cell_type": "code",
   "execution_count": 96,
   "id": "2d642b44-b562-41c8-b2d7-8557f07238d1",
   "metadata": {},
   "outputs": [
    {
     "name": "stdout",
     "output_type": "stream",
     "text": [
      "('Wyatt', 'AI', 'FN', 2024, 94.9, 'salem', 'M')\n",
      "('Theodore', 'AI', 'AN', 2022, 95.8, 'ooty', 'M')\n"
     ]
    }
   ],
   "source": [
    "#)select the data of coloumn 'AI'\n",
    "query = \"select * from marks where course='AI'\"\n",
    "cursor.execute(query)\n",
    "for row in cursor.fetchall():\n",
    "    print(row)"
   ]
  },
  {
   "cell_type": "code",
   "execution_count": 97,
   "id": "119c9273-8ccb-4dc0-9184-4fdd34ad26fa",
   "metadata": {},
   "outputs": [
    {
     "name": "stdout",
     "output_type": "stream",
     "text": [
      "('Estelle', 'ML', 'AN', 2023, 76.5, 'chennai', 'F')\n",
      "('Penelope', 'ML', 'FN', 2022, 71.2, 'salem', 'F')\n",
      "('Henry', 'ML', 'AN', 2024, 87.6, 'erode', 'M')\n",
      "('Verity', 'ML', 'FN', 2023, 81.2, 'chennai', 'F')\n"
     ]
    }
   ],
   "source": [
    "#)select the data of coloumn 'ML'\n",
    "query = \"select * from marks where course='ML'\"\n",
    "cursor.execute(query)\n",
    "for row in cursor.fetchall():\n",
    "    print(row)"
   ]
  },
  {
   "cell_type": "code",
   "execution_count": 98,
   "id": "f7213c42-dde0-4592-a1d2-61eec0ce9821",
   "metadata": {},
   "outputs": [
    {
     "name": "stdout",
     "output_type": "stream",
     "text": [
      "('Wyatt', 'AI', 'FN', 2024, 94.9, 'salem', 'M')\n",
      "('Archer', 'DE', 'FN', 2023, 90.1, 'coimbatore', 'M')\n",
      "('Penelope', 'ML', 'FN', 2022, 71.2, 'salem', 'F')\n",
      "('Violet', 'DS', 'FN', 2023, 67.9, 'ooty', 'F')\n",
      "('Verity', 'ML', 'FN', 2023, 81.2, 'chennai', 'F')\n"
     ]
    }
   ],
   "source": [
    "#)select the data of coloumn session'FN'\n",
    "query = \"select * from marks where session='FN'\"\n",
    "cursor.execute(query)\n",
    "for row in cursor.fetchall():\n",
    "    print(row)"
   ]
  },
  {
   "cell_type": "code",
   "execution_count": 99,
   "id": "8afebef1-09b0-4339-adc6-9824e649037b",
   "metadata": {},
   "outputs": [
    {
     "name": "stdout",
     "output_type": "stream",
     "text": [
      "('Estelle', 'ML', 'AN', 2023, 76.5, 'chennai', 'F')\n",
      "('Heath', 'DS', 'AN', 2022, 83.2, 'erode', 'M')\n",
      "('Imogene', 'DE', 'AN', 2024, 72.4, 'coimbatore', 'F')\n",
      "('Henry', 'ML', 'AN', 2024, 87.6, 'erode', 'M')\n",
      "('Theodore', 'AI', 'AN', 2022, 95.8, 'ooty', 'M')\n"
     ]
    }
   ],
   "source": [
    "#)select the data of column session 'AN'\n",
    "query = \"select * from marks where session='AN'\"\n",
    "cursor.execute(query)\n",
    "for row in cursor.fetchall():\n",
    "    print(row)"
   ]
  },
  {
   "cell_type": "code",
   "execution_count": 100,
   "id": "8e3e7abd-21d2-4c7c-8ec6-55fee8376977",
   "metadata": {},
   "outputs": [
    {
     "name": "stdout",
     "output_type": "stream",
     "text": [
      "('Wyatt', 'AI', 'FN', 2024, 94.9, 'salem', 'M')\n",
      "('Imogene', 'DE', 'AN', 2024, 72.4, 'coimbatore', 'F')\n",
      "('Henry', 'ML', 'AN', 2024, 87.6, 'erode', 'M')\n"
     ]
    }
   ],
   "source": [
    "#)select the data of column year 2024\n",
    "query = \"select * from marks where year=2024\"\n",
    "cursor.execute(query)\n",
    "for row in cursor.fetchall():\n",
    "    print(row)"
   ]
  },
  {
   "cell_type": "code",
   "execution_count": 101,
   "id": "2e24d2cc-166f-4058-88ba-a510565b5fe8",
   "metadata": {},
   "outputs": [
    {
     "name": "stdout",
     "output_type": "stream",
     "text": [
      "('Estelle', 'ML', 'AN', 2023, 76.5, 'chennai', 'F')\n",
      "('Archer', 'DE', 'FN', 2023, 90.1, 'coimbatore', 'M')\n",
      "('Violet', 'DS', 'FN', 2023, 67.9, 'ooty', 'F')\n",
      "('Verity', 'ML', 'FN', 2023, 81.2, 'chennai', 'F')\n"
     ]
    }
   ],
   "source": [
    "#)select the data of column year 2023\n",
    "query = \"select * from marks where year=2023\"\n",
    "cursor.execute(query)\n",
    "for row in cursor.fetchall():\n",
    "    print(row)"
   ]
  },
  {
   "cell_type": "code",
   "execution_count": 102,
   "id": "6b6f8ba1-9604-48b3-8313-f80c473703c3",
   "metadata": {},
   "outputs": [
    {
     "name": "stdout",
     "output_type": "stream",
     "text": [
      "('Heath', 'DS', 'AN', 2022, 83.2, 'erode', 'M')\n",
      "('Penelope', 'ML', 'FN', 2022, 71.2, 'salem', 'F')\n",
      "('Theodore', 'AI', 'AN', 2022, 95.8, 'ooty', 'M')\n"
     ]
    }
   ],
   "source": [
    "#)select the data of column year 2022\n",
    "query = \"select * from marks where year=2022\"\n",
    "cursor.execute(query)\n",
    "for row in cursor.fetchall():\n",
    "    print(row)"
   ]
  },
  {
   "cell_type": "code",
   "execution_count": 103,
   "id": "c307d426-eac7-4f2b-b76e-164bf24d97ab",
   "metadata": {},
   "outputs": [
    {
     "name": "stdout",
     "output_type": "stream",
     "text": [
      "('Wyatt', 2024)\n",
      "('Estelle', 2023)\n",
      "('Heath', 2022)\n",
      "('Imogene', 2024)\n",
      "('Archer', 2023)\n",
      "('Penelope', 2022)\n",
      "('Henry', 2024)\n",
      "('Violet', 2023)\n",
      "('Theodore', 2022)\n",
      "('Verity', 2023)\n"
     ]
    }
   ],
   "source": [
    "#) select student_name, year from marks\n",
    "query = \"select student_name, year from marks\"\n",
    "cursor.execute(query)\n",
    "for row in cursor.fetchall():\n",
    "    print(row)"
   ]
  },
  {
   "cell_type": "code",
   "execution_count": 104,
   "id": "535db1b6-cd68-4a8a-8272-227fe4e5460b",
   "metadata": {},
   "outputs": [
    {
     "name": "stdout",
     "output_type": "stream",
     "text": [
      "('Wyatt', 'AI')\n",
      "('Estelle', 'ML')\n",
      "('Heath', 'DS')\n",
      "('Imogene', 'DE')\n",
      "('Archer', 'DE')\n",
      "('Penelope', 'ML')\n",
      "('Henry', 'ML')\n",
      "('Violet', 'DS')\n",
      "('Theodore', 'AI')\n",
      "('Verity', 'ML')\n"
     ]
    }
   ],
   "source": [
    "#) select student_name, course from marks\n",
    "query = \"select student_name, course from marks\"\n",
    "cursor.execute(query)\n",
    "for row in cursor.fetchall():\n",
    "    print(row)"
   ]
  },
  {
   "cell_type": "code",
   "execution_count": 105,
   "id": "8513a549-9d14-423f-9df2-e1515118f7b8",
   "metadata": {},
   "outputs": [
    {
     "name": "stdout",
     "output_type": "stream",
     "text": [
      "('Wyatt', 'AI', 'M')\n",
      "('Estelle', 'ML', 'F')\n",
      "('Heath', 'DS', 'M')\n",
      "('Imogene', 'DE', 'F')\n",
      "('Archer', 'DE', 'M')\n",
      "('Penelope', 'ML', 'F')\n",
      "('Henry', 'ML', 'M')\n",
      "('Violet', 'DS', 'F')\n",
      "('Theodore', 'AI', 'M')\n",
      "('Verity', 'ML', 'F')\n"
     ]
    }
   ],
   "source": [
    "#) select student_name, course,gender from marks\n",
    "query = \"select student_name, course,gender from marks\"\n",
    "cursor.execute(query)\n",
    "for row in cursor.fetchall():\n",
    "    print(row)"
   ]
  },
  {
   "cell_type": "code",
   "execution_count": 106,
   "id": "c40a3769-2832-4878-b80c-b917825c064f",
   "metadata": {},
   "outputs": [
    {
     "name": "stdout",
     "output_type": "stream",
     "text": [
      "('Wyatt', 'AI', 'salem')\n",
      "('Estelle', 'ML', 'chennai')\n",
      "('Heath', 'DS', 'erode')\n",
      "('Imogene', 'DE', 'coimbatore')\n",
      "('Archer', 'DE', 'coimbatore')\n",
      "('Penelope', 'ML', 'salem')\n",
      "('Henry', 'ML', 'erode')\n",
      "('Violet', 'DS', 'ooty')\n",
      "('Theodore', 'AI', 'ooty')\n",
      "('Verity', 'ML', 'chennai')\n"
     ]
    }
   ],
   "source": [
    "#) select student_name, course,address from marks\n",
    "query = \"select student_name, course,student_address from marks\"\n",
    "cursor.execute(query)\n",
    "for row in cursor.fetchall():\n",
    "    print(row)"
   ]
  },
  {
   "cell_type": "code",
   "execution_count": 107,
   "id": "6d430227-5a95-4a24-bf08-7dfba4374150",
   "metadata": {},
   "outputs": [
    {
     "name": "stdout",
     "output_type": "stream",
     "text": [
      "(67.9, 95.8)\n"
     ]
    }
   ],
   "source": [
    "#) to get min and max mark\n",
    "query = \"select min(mark),max(mark) from marks\"\n",
    "cursor.execute(query)\n",
    "for data in cursor.fetchall():\n",
    "    print(data)"
   ]
  },
  {
   "cell_type": "code",
   "execution_count": 48,
   "id": "6676c24a-8881-47c9-8a4a-29804c0804c0",
   "metadata": {},
   "outputs": [
    {
     "name": "stdout",
     "output_type": "stream",
     "text": [
      "['AI', 'ML', 'DS', 'DE', 'DE', 'ML', 'ML', 'DS', 'AI', 'ML']\n"
     ]
    }
   ],
   "source": [
    "#) converting df to list\n",
    "list_course = df_record['course'].tolist()\n",
    "print(list_course)"
   ]
  },
  {
   "cell_type": "code",
   "execution_count": 52,
   "id": "57448552-f17b-4eb9-aaa4-61c5f7dd5a43",
   "metadata": {},
   "outputs": [
    {
     "name": "stdout",
     "output_type": "stream",
     "text": [
      "['FN', 'AN', 'AN', 'AN', 'FN', 'FN', 'AN', 'FN', 'AN', 'FN']\n"
     ]
    }
   ],
   "source": [
    "list_session = df_record['session'].tolist()\n",
    "print(list_session)"
   ]
  },
  {
   "cell_type": "code",
   "execution_count": 11,
   "id": "c6b6779a-7b0a-4414-961a-0f1d7eb9faa1",
   "metadata": {},
   "outputs": [
    {
     "name": "stdout",
     "output_type": "stream",
     "text": [
      "[2024, 2023, 2022, 2024, 2023, 2022, 2024, 2023, 2022, 2023]\n"
     ]
    }
   ],
   "source": [
    "list_year = df_record['year'].tolist()\n",
    "print(list_year)"
   ]
  },
  {
   "cell_type": "code",
   "execution_count": 113,
   "id": "4ea69fe2-b952-4a02-b3f9-77778cec1780",
   "metadata": {},
   "outputs": [
    {
     "name": "stdout",
     "output_type": "stream",
     "text": [
      "[94.9, 76.5, 83.2, 72.4, 90.1, 71.2, 87.6, 67.9, 95.8, 81.2]\n"
     ]
    }
   ],
   "source": [
    "list_marks = df_record['marks'].tolist()\n",
    "print(list_marks)"
   ]
  },
  {
   "cell_type": "code",
   "execution_count": 9,
   "id": "8d71a0e7-c6b0-4aa9-a3c1-11a6774e5f55",
   "metadata": {},
   "outputs": [
    {
     "data": {
      "image/png": "[encoded data removed]",
      "text/plain": [
       "<Figure size 562x500 with 6 Axes>"
      ]
     },
     "metadata": {},
     "output_type": "display_data"
    }
   ],
   "source": [
    "#) pair plot\n",
    "import matplotlib.pyplot as plt\n",
    "import seaborn as sns\n",
    "import numpy as np\n",
    "\n",
    "sns.pairplot(data=df_record,hue=\"gender\")\n",
    "plt.show()"
   ]
  },
  {
   "cell_type": "code",
   "execution_count": 14,
   "id": "2b69aa40-d702-4d6b-9f5a-a55cb06ac9cc",
   "metadata": {},
   "outputs": [
    {
     "data": {
      "image/png": "[encoded data removed]",
      "text/plain": [
       "<Figure size 640x480 with 1 Axes>"
      ]
     },
     "metadata": {},
     "output_type": "display_data"
    }
   ],
   "source": [
    "#) horizontal bar plot\n",
    "plt.barh(list_year,list_marks,height=0.3)\n",
    "plt.xlabel(\"marks\",fontsize=14)\n",
    "plt.ylabel(\"year\",fontsize=14)\n",
    "plt.xticks(color=\"red\")\n",
    "plt.yticks(color=\"red\")\n",
    "plt.show()"
   ]
  },
  {
   "cell_type": "code",
   "execution_count": 69,
   "id": "2d084d43-d507-47c4-b6db-6182d2f79040",
   "metadata": {},
   "outputs": [
    {
     "data": {
      "image/png": "[encoded data removed]",
      "text/plain": [
       "<Figure size 600x400 with 1 Axes>"
      ]
     },
     "metadata": {},
     "output_type": "display_data"
    }
   ],
   "source": [
    "#) scatter plot\n",
    "plt.figure(figsize=(6,4))\n",
    "sns.scatterplot(data=df_record,x =\"year\",y= \"marks\",hue=\"gender\",style=\"session\")\n",
    "plt.show()"
   ]
  },
  {
   "cell_type": "code",
   "execution_count": 3,
   "id": "c9bf89f0-3fe6-42b0-b3fb-e38bf614bd80",
   "metadata": {},
   "outputs": [
    {
     "data": {
      "text/html": [
       "\n",
       "        <iframe\n",
       "            width=\"100%\"\n",
       "            height=\"650\"\n",
       "            src=\"http://127.0.0.1:2233/\"\n",
       "            frameborder=\"0\"\n",
       "            allowfullscreen\n",
       "            \n",
       "        ></iframe>\n",
       "        "
      ],
      "text/plain": [
       "<IPython.lib.display.IFrame at 0x2d1da9806b0>"
      ]
     },
     "metadata": {},
     "output_type": "display_data"
    }
   ],
   "source": [
    "#) scatter plot in dashboard \n",
    "import seaborn as sns\n",
    "import plotly.express as px\n",
    "import pandas as pd\n",
    "import numpy as np\n",
    "from dash import Dash,html,dcc,Input,Output,callback\n",
    "\n",
    "\n",
    "fig = px.scatter(df_record,x='year',y='marks')\n",
    "\n",
    "app = Dash()\n",
    "min_value = df_record['year'].min()\n",
    "max_value = df_record['year'].max()\n",
    "avg_value = df_record['year'].mean()\n",
    "\n",
    "app.layout = html.Div(children = [\n",
    "    dcc.Slider(min_value,max_value,value=avg_value,id=\"my_input\"),\n",
    "    dcc.Graph(id=\"my_out\")\n",
    "])\n",
    "@callback(Output(\"my_out\",\"figure\"),Input(\"my_input\",\"value\"))\n",
    "def updateGraph(value):\n",
    "    df_temp = df_record[df_record['year']<=value]\n",
    "    fig = px.scatter(df_temp,x='year',y='marks')\n",
    "    return fig\n",
    "app.run_server(port=2233)"
   ]
  }
 ],
 "metadata": {
  "kernelspec": {
   "display_name": "Python 3 (ipykernel)",
   "language": "python",
   "name": "python3"
  },
  "language_info": {
   "codemirror_mode": {
    "name": "ipython",
    "version": 3
   },
   "file_extension": ".py",
   "mimetype": "text/x-python",
   "name": "python",
   "nbconvert_exporter": "python",
   "pygments_lexer": "ipython3",
   "version": "3.12.0"
  }
 },
 "nbformat": 4,
 "nbformat_minor": 5
}
